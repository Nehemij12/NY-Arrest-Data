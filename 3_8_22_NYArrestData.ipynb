{
  "nbformat": 4,
  "nbformat_minor": 0,
  "metadata": {
    "colab": {
      "name": "3.8.22.NYArrestData.ipynb",
      "provenance": [],
      "collapsed_sections": []
    },
    "kernelspec": {
      "name": "python3",
      "display_name": "Python 3"
    },
    "language_info": {
      "name": "python"
    }
  },
  "cells": [
    {
      "cell_type": "markdown",
      "source": [
        "Which borough has the highset number of arrest of African-Americans?"
      ],
      "metadata": {
        "id": "W2utaeWmsnrE"
      }
    },
    {
      "cell_type": "code",
      "execution_count": 97,
      "metadata": {
        "colab": {
          "base_uri": "https://localhost:8080/",
          "height": 852
        },
        "id": "IYVigxKUsEZG",
        "outputId": "c1277ecf-38b3-4dc1-b2f7-200dfc917a9f"
      },
      "outputs": [
        {
          "output_type": "execute_result",
          "data": {
            "text/html": [
              "\n",
              "  <div id=\"df-7dc5082f-06be-47e9-bfbe-985a352fbc6b\">\n",
              "    <div class=\"colab-df-container\">\n",
              "      <div>\n",
              "<style scoped>\n",
              "    .dataframe tbody tr th:only-of-type {\n",
              "        vertical-align: middle;\n",
              "    }\n",
              "\n",
              "    .dataframe tbody tr th {\n",
              "        vertical-align: top;\n",
              "    }\n",
              "\n",
              "    .dataframe thead th {\n",
              "        text-align: right;\n",
              "    }\n",
              "</style>\n",
              "<table border=\"1\" class=\"dataframe\">\n",
              "  <thead>\n",
              "    <tr style=\"text-align: right;\">\n",
              "      <th></th>\n",
              "      <th>ARREST_KEY</th>\n",
              "      <th>ARREST_DATE</th>\n",
              "      <th>PD_CD</th>\n",
              "      <th>PD_DESC</th>\n",
              "      <th>KY_CD</th>\n",
              "      <th>OFNS_DESC</th>\n",
              "      <th>LAW_CODE</th>\n",
              "      <th>LAW_CAT_CD</th>\n",
              "      <th>ARREST_BORO</th>\n",
              "      <th>ARREST_PRECINCT</th>\n",
              "      <th>JURISDICTION_CODE</th>\n",
              "      <th>AGE_GROUP</th>\n",
              "      <th>PERP_SEX</th>\n",
              "      <th>PERP_RACE</th>\n",
              "      <th>X_COORD_CD</th>\n",
              "      <th>Y_COORD_CD</th>\n",
              "      <th>Latitude</th>\n",
              "      <th>Longitude</th>\n",
              "      <th>New Georeferenced Column</th>\n",
              "    </tr>\n",
              "  </thead>\n",
              "  <tbody>\n",
              "    <tr>\n",
              "      <th>0</th>\n",
              "      <td>238013474</td>\n",
              "      <td>12/18/2021</td>\n",
              "      <td>157.0</td>\n",
              "      <td>RAPE 1</td>\n",
              "      <td>104.0</td>\n",
              "      <td>RAPE</td>\n",
              "      <td>PL 1303501</td>\n",
              "      <td>F</td>\n",
              "      <td>Q</td>\n",
              "      <td>105</td>\n",
              "      <td>97</td>\n",
              "      <td>18-24</td>\n",
              "      <td>M</td>\n",
              "      <td>BLACK</td>\n",
              "      <td>1057636</td>\n",
              "      <td>203954</td>\n",
              "      <td>40.726187</td>\n",
              "      <td>-73.735234</td>\n",
              "      <td>POINT (-73.73523390399998 40.72618713000002)</td>\n",
              "    </tr>\n",
              "    <tr>\n",
              "      <th>1</th>\n",
              "      <td>236943583</td>\n",
              "      <td>11/25/2021</td>\n",
              "      <td>263.0</td>\n",
              "      <td>ARSON 2,3,4</td>\n",
              "      <td>114.0</td>\n",
              "      <td>ARSON</td>\n",
              "      <td>PL 1501500</td>\n",
              "      <td>F</td>\n",
              "      <td>K</td>\n",
              "      <td>69</td>\n",
              "      <td>71</td>\n",
              "      <td>25-44</td>\n",
              "      <td>M</td>\n",
              "      <td>BLACK</td>\n",
              "      <td>1014340</td>\n",
              "      <td>171320</td>\n",
              "      <td>40.636868</td>\n",
              "      <td>-73.891586</td>\n",
              "      <td>POINT (-73.89158591899997 40.63686750900007)</td>\n",
              "    </tr>\n",
              "    <tr>\n",
              "      <th>2</th>\n",
              "      <td>234938876</td>\n",
              "      <td>10/14/2021</td>\n",
              "      <td>594.0</td>\n",
              "      <td>OBSCENITY 1</td>\n",
              "      <td>116.0</td>\n",
              "      <td>SEX CRIMES</td>\n",
              "      <td>PL 2631100</td>\n",
              "      <td>F</td>\n",
              "      <td>K</td>\n",
              "      <td>61</td>\n",
              "      <td>0</td>\n",
              "      <td>25-44</td>\n",
              "      <td>M</td>\n",
              "      <td>WHITE</td>\n",
              "      <td>995244</td>\n",
              "      <td>155739</td>\n",
              "      <td>40.594145</td>\n",
              "      <td>-73.960415</td>\n",
              "      <td>POINT (-73.96041495199995 40.59414516900005)</td>\n",
              "    </tr>\n",
              "    <tr>\n",
              "      <th>3</th>\n",
              "      <td>234788259</td>\n",
              "      <td>10/11/2021</td>\n",
              "      <td>263.0</td>\n",
              "      <td>ARSON 2,3,4</td>\n",
              "      <td>114.0</td>\n",
              "      <td>ARSON</td>\n",
              "      <td>PL 1501001</td>\n",
              "      <td>F</td>\n",
              "      <td>B</td>\n",
              "      <td>42</td>\n",
              "      <td>71</td>\n",
              "      <td>18-24</td>\n",
              "      <td>M</td>\n",
              "      <td>BLACK</td>\n",
              "      <td>1009058</td>\n",
              "      <td>239616</td>\n",
              "      <td>40.824340</td>\n",
              "      <td>-73.910365</td>\n",
              "      <td>POINT (-73.91036538099996 40.82433953100008)</td>\n",
              "    </tr>\n",
              "    <tr>\n",
              "      <th>4</th>\n",
              "      <td>234188790</td>\n",
              "      <td>9/28/2021</td>\n",
              "      <td>578.0</td>\n",
              "      <td>NaN</td>\n",
              "      <td>NaN</td>\n",
              "      <td>NaN</td>\n",
              "      <td>PL 2223001</td>\n",
              "      <td>M</td>\n",
              "      <td>B</td>\n",
              "      <td>44</td>\n",
              "      <td>0</td>\n",
              "      <td>25-44</td>\n",
              "      <td>M</td>\n",
              "      <td>BLACK</td>\n",
              "      <td>1005169</td>\n",
              "      <td>246667</td>\n",
              "      <td>40.843703</td>\n",
              "      <td>-73.924395</td>\n",
              "      <td>POINT (-73.92439508899997 40.84370255600004)</td>\n",
              "    </tr>\n",
              "    <tr>\n",
              "      <th>...</th>\n",
              "      <td>...</td>\n",
              "      <td>...</td>\n",
              "      <td>...</td>\n",
              "      <td>...</td>\n",
              "      <td>...</td>\n",
              "      <td>...</td>\n",
              "      <td>...</td>\n",
              "      <td>...</td>\n",
              "      <td>...</td>\n",
              "      <td>...</td>\n",
              "      <td>...</td>\n",
              "      <td>...</td>\n",
              "      <td>...</td>\n",
              "      <td>...</td>\n",
              "      <td>...</td>\n",
              "      <td>...</td>\n",
              "      <td>...</td>\n",
              "      <td>...</td>\n",
              "      <td>...</td>\n",
              "    </tr>\n",
              "    <tr>\n",
              "      <th>155502</th>\n",
              "      <td>222884924</td>\n",
              "      <td>1/10/2021</td>\n",
              "      <td>397.0</td>\n",
              "      <td>ROBBERY,OPEN AREA UNCLASSIFIED</td>\n",
              "      <td>105.0</td>\n",
              "      <td>ROBBERY</td>\n",
              "      <td>PL 1601001</td>\n",
              "      <td>F</td>\n",
              "      <td>B</td>\n",
              "      <td>46</td>\n",
              "      <td>0</td>\n",
              "      <td>45-64</td>\n",
              "      <td>M</td>\n",
              "      <td>BLACK</td>\n",
              "      <td>1011432</td>\n",
              "      <td>247605</td>\n",
              "      <td>40.846260</td>\n",
              "      <td>-73.901755</td>\n",
              "      <td>POINT (-73.90175529499999 40.846260031000035)</td>\n",
              "    </tr>\n",
              "    <tr>\n",
              "      <th>155503</th>\n",
              "      <td>223918625</td>\n",
              "      <td>2/3/2021</td>\n",
              "      <td>792.0</td>\n",
              "      <td>WEAPONS POSSESSION 1 &amp; 2</td>\n",
              "      <td>118.0</td>\n",
              "      <td>DANGEROUS WEAPONS</td>\n",
              "      <td>PL 2650303</td>\n",
              "      <td>F</td>\n",
              "      <td>K</td>\n",
              "      <td>67</td>\n",
              "      <td>0</td>\n",
              "      <td>18-24</td>\n",
              "      <td>M</td>\n",
              "      <td>BLACK</td>\n",
              "      <td>1004940</td>\n",
              "      <td>180941</td>\n",
              "      <td>40.663302</td>\n",
              "      <td>-73.925425</td>\n",
              "      <td>POINT (-73.92542497899994 40.66330200400005)</td>\n",
              "    </tr>\n",
              "    <tr>\n",
              "      <th>155504</th>\n",
              "      <td>224323770</td>\n",
              "      <td>2/13/2021</td>\n",
              "      <td>101.0</td>\n",
              "      <td>ASSAULT 3</td>\n",
              "      <td>344.0</td>\n",
              "      <td>ASSAULT 3 &amp; RELATED OFFENSES</td>\n",
              "      <td>PL 1200001</td>\n",
              "      <td>M</td>\n",
              "      <td>S</td>\n",
              "      <td>121</td>\n",
              "      <td>0</td>\n",
              "      <td>45-64</td>\n",
              "      <td>M</td>\n",
              "      <td>BLACK</td>\n",
              "      <td>942825</td>\n",
              "      <td>166367</td>\n",
              "      <td>40.623227</td>\n",
              "      <td>-74.149227</td>\n",
              "      <td>POINT (-74.14922697299994 40.623226819000074)</td>\n",
              "    </tr>\n",
              "    <tr>\n",
              "      <th>155505</th>\n",
              "      <td>222599533</td>\n",
              "      <td>1/4/2021</td>\n",
              "      <td>792.0</td>\n",
              "      <td>WEAPONS POSSESSION 1 &amp; 2</td>\n",
              "      <td>118.0</td>\n",
              "      <td>DANGEROUS WEAPONS</td>\n",
              "      <td>PL 2650303</td>\n",
              "      <td>F</td>\n",
              "      <td>K</td>\n",
              "      <td>73</td>\n",
              "      <td>0</td>\n",
              "      <td>25-44</td>\n",
              "      <td>M</td>\n",
              "      <td>BLACK</td>\n",
              "      <td>1007524</td>\n",
              "      <td>188555</td>\n",
              "      <td>40.684194</td>\n",
              "      <td>-73.916085</td>\n",
              "      <td>POINT (-73.91608474599997 40.684194302000044)</td>\n",
              "    </tr>\n",
              "    <tr>\n",
              "      <th>155506</th>\n",
              "      <td>224056881</td>\n",
              "      <td>2/6/2021</td>\n",
              "      <td>268.0</td>\n",
              "      <td>CRIMINAL MIS 2 &amp; 3</td>\n",
              "      <td>121.0</td>\n",
              "      <td>CRIMINAL MISCHIEF &amp; RELATED OF</td>\n",
              "      <td>PL 1451000</td>\n",
              "      <td>F</td>\n",
              "      <td>Q</td>\n",
              "      <td>102</td>\n",
              "      <td>0</td>\n",
              "      <td>18-24</td>\n",
              "      <td>M</td>\n",
              "      <td>ASIAN / PACIFIC ISLANDER</td>\n",
              "      <td>1031414</td>\n",
              "      <td>190787</td>\n",
              "      <td>40.690226</td>\n",
              "      <td>-73.829932</td>\n",
              "      <td>POINT (-73.82993153599993 40.69022556600004)</td>\n",
              "    </tr>\n",
              "  </tbody>\n",
              "</table>\n",
              "<p>155507 rows × 19 columns</p>\n",
              "</div>\n",
              "      <button class=\"colab-df-convert\" onclick=\"convertToInteractive('df-7dc5082f-06be-47e9-bfbe-985a352fbc6b')\"\n",
              "              title=\"Convert this dataframe to an interactive table.\"\n",
              "              style=\"display:none;\">\n",
              "        \n",
              "  <svg xmlns=\"http://www.w3.org/2000/svg\" height=\"24px\"viewBox=\"0 0 24 24\"\n",
              "       width=\"24px\">\n",
              "    <path d=\"M0 0h24v24H0V0z\" fill=\"none\"/>\n",
              "    <path d=\"M18.56 5.44l.94 2.06.94-2.06 2.06-.94-2.06-.94-.94-2.06-.94 2.06-2.06.94zm-11 1L8.5 8.5l.94-2.06 2.06-.94-2.06-.94L8.5 2.5l-.94 2.06-2.06.94zm10 10l.94 2.06.94-2.06 2.06-.94-2.06-.94-.94-2.06-.94 2.06-2.06.94z\"/><path d=\"M17.41 7.96l-1.37-1.37c-.4-.4-.92-.59-1.43-.59-.52 0-1.04.2-1.43.59L10.3 9.45l-7.72 7.72c-.78.78-.78 2.05 0 2.83L4 21.41c.39.39.9.59 1.41.59.51 0 1.02-.2 1.41-.59l7.78-7.78 2.81-2.81c.8-.78.8-2.07 0-2.86zM5.41 20L4 18.59l7.72-7.72 1.47 1.35L5.41 20z\"/>\n",
              "  </svg>\n",
              "      </button>\n",
              "      \n",
              "  <style>\n",
              "    .colab-df-container {\n",
              "      display:flex;\n",
              "      flex-wrap:wrap;\n",
              "      gap: 12px;\n",
              "    }\n",
              "\n",
              "    .colab-df-convert {\n",
              "      background-color: #E8F0FE;\n",
              "      border: none;\n",
              "      border-radius: 50%;\n",
              "      cursor: pointer;\n",
              "      display: none;\n",
              "      fill: #1967D2;\n",
              "      height: 32px;\n",
              "      padding: 0 0 0 0;\n",
              "      width: 32px;\n",
              "    }\n",
              "\n",
              "    .colab-df-convert:hover {\n",
              "      background-color: #E2EBFA;\n",
              "      box-shadow: 0px 1px 2px rgba(60, 64, 67, 0.3), 0px 1px 3px 1px rgba(60, 64, 67, 0.15);\n",
              "      fill: #174EA6;\n",
              "    }\n",
              "\n",
              "    [theme=dark] .colab-df-convert {\n",
              "      background-color: #3B4455;\n",
              "      fill: #D2E3FC;\n",
              "    }\n",
              "\n",
              "    [theme=dark] .colab-df-convert:hover {\n",
              "      background-color: #434B5C;\n",
              "      box-shadow: 0px 1px 3px 1px rgba(0, 0, 0, 0.15);\n",
              "      filter: drop-shadow(0px 1px 2px rgba(0, 0, 0, 0.3));\n",
              "      fill: #FFFFFF;\n",
              "    }\n",
              "  </style>\n",
              "\n",
              "      <script>\n",
              "        const buttonEl =\n",
              "          document.querySelector('#df-7dc5082f-06be-47e9-bfbe-985a352fbc6b button.colab-df-convert');\n",
              "        buttonEl.style.display =\n",
              "          google.colab.kernel.accessAllowed ? 'block' : 'none';\n",
              "\n",
              "        async function convertToInteractive(key) {\n",
              "          const element = document.querySelector('#df-7dc5082f-06be-47e9-bfbe-985a352fbc6b');\n",
              "          const dataTable =\n",
              "            await google.colab.kernel.invokeFunction('convertToInteractive',\n",
              "                                                     [key], {});\n",
              "          if (!dataTable) return;\n",
              "\n",
              "          const docLinkHtml = 'Like what you see? Visit the ' +\n",
              "            '<a target=\"_blank\" href=https://colab.research.google.com/notebooks/data_table.ipynb>data table notebook</a>'\n",
              "            + ' to learn more about interactive tables.';\n",
              "          element.innerHTML = '';\n",
              "          dataTable['output_type'] = 'display_data';\n",
              "          await google.colab.output.renderOutput(dataTable, element);\n",
              "          const docLink = document.createElement('div');\n",
              "          docLink.innerHTML = docLinkHtml;\n",
              "          element.appendChild(docLink);\n",
              "        }\n",
              "      </script>\n",
              "    </div>\n",
              "  </div>\n",
              "  "
            ],
            "text/plain": [
              "        ARREST_KEY ARREST_DATE  PD_CD                         PD_DESC  KY_CD  \\\n",
              "0        238013474  12/18/2021  157.0                          RAPE 1  104.0   \n",
              "1        236943583  11/25/2021  263.0                     ARSON 2,3,4  114.0   \n",
              "2        234938876  10/14/2021  594.0                     OBSCENITY 1  116.0   \n",
              "3        234788259  10/11/2021  263.0                     ARSON 2,3,4  114.0   \n",
              "4        234188790   9/28/2021  578.0                             NaN    NaN   \n",
              "...            ...         ...    ...                             ...    ...   \n",
              "155502   222884924   1/10/2021  397.0  ROBBERY,OPEN AREA UNCLASSIFIED  105.0   \n",
              "155503   223918625    2/3/2021  792.0        WEAPONS POSSESSION 1 & 2  118.0   \n",
              "155504   224323770   2/13/2021  101.0                       ASSAULT 3  344.0   \n",
              "155505   222599533    1/4/2021  792.0        WEAPONS POSSESSION 1 & 2  118.0   \n",
              "155506   224056881    2/6/2021  268.0              CRIMINAL MIS 2 & 3  121.0   \n",
              "\n",
              "                             OFNS_DESC    LAW_CODE LAW_CAT_CD ARREST_BORO  \\\n",
              "0                                 RAPE  PL 1303501          F           Q   \n",
              "1                                ARSON  PL 1501500          F           K   \n",
              "2                           SEX CRIMES  PL 2631100          F           K   \n",
              "3                                ARSON  PL 1501001          F           B   \n",
              "4                                  NaN  PL 2223001          M           B   \n",
              "...                                ...         ...        ...         ...   \n",
              "155502                         ROBBERY  PL 1601001          F           B   \n",
              "155503               DANGEROUS WEAPONS  PL 2650303          F           K   \n",
              "155504    ASSAULT 3 & RELATED OFFENSES  PL 1200001          M           S   \n",
              "155505               DANGEROUS WEAPONS  PL 2650303          F           K   \n",
              "155506  CRIMINAL MISCHIEF & RELATED OF  PL 1451000          F           Q   \n",
              "\n",
              "        ARREST_PRECINCT  JURISDICTION_CODE AGE_GROUP PERP_SEX  \\\n",
              "0                   105                 97     18-24        M   \n",
              "1                    69                 71     25-44        M   \n",
              "2                    61                  0     25-44        M   \n",
              "3                    42                 71     18-24        M   \n",
              "4                    44                  0     25-44        M   \n",
              "...                 ...                ...       ...      ...   \n",
              "155502               46                  0     45-64        M   \n",
              "155503               67                  0     18-24        M   \n",
              "155504              121                  0     45-64        M   \n",
              "155505               73                  0     25-44        M   \n",
              "155506              102                  0     18-24        M   \n",
              "\n",
              "                       PERP_RACE  X_COORD_CD  Y_COORD_CD   Latitude  \\\n",
              "0                          BLACK     1057636      203954  40.726187   \n",
              "1                          BLACK     1014340      171320  40.636868   \n",
              "2                          WHITE      995244      155739  40.594145   \n",
              "3                          BLACK     1009058      239616  40.824340   \n",
              "4                          BLACK     1005169      246667  40.843703   \n",
              "...                          ...         ...         ...        ...   \n",
              "155502                     BLACK     1011432      247605  40.846260   \n",
              "155503                     BLACK     1004940      180941  40.663302   \n",
              "155504                     BLACK      942825      166367  40.623227   \n",
              "155505                     BLACK     1007524      188555  40.684194   \n",
              "155506  ASIAN / PACIFIC ISLANDER     1031414      190787  40.690226   \n",
              "\n",
              "        Longitude                       New Georeferenced Column  \n",
              "0      -73.735234   POINT (-73.73523390399998 40.72618713000002)  \n",
              "1      -73.891586   POINT (-73.89158591899997 40.63686750900007)  \n",
              "2      -73.960415   POINT (-73.96041495199995 40.59414516900005)  \n",
              "3      -73.910365   POINT (-73.91036538099996 40.82433953100008)  \n",
              "4      -73.924395   POINT (-73.92439508899997 40.84370255600004)  \n",
              "...           ...                                            ...  \n",
              "155502 -73.901755  POINT (-73.90175529499999 40.846260031000035)  \n",
              "155503 -73.925425   POINT (-73.92542497899994 40.66330200400005)  \n",
              "155504 -74.149227  POINT (-74.14922697299994 40.623226819000074)  \n",
              "155505 -73.916085  POINT (-73.91608474599997 40.684194302000044)  \n",
              "155506 -73.829932   POINT (-73.82993153599993 40.69022556600004)  \n",
              "\n",
              "[155507 rows x 19 columns]"
            ]
          },
          "metadata": {},
          "execution_count": 97
        }
      ],
      "source": [
        "import pandas as pd\n",
        "import matplotlib.pyplot as plt\n",
        "import seaborn as sns\n",
        "import numpy as np\n",
        "df=pd.read_csv('/content/NYPD_Arrest_Data__Year_to_Date_.csv')\n",
        "df"
      ]
    },
    {
      "cell_type": "markdown",
      "source": [
        "Next I want to clean the data by reviewing counts of missing fields, deleting columns that aren't relevent to the question above and renaming columns."
      ],
      "metadata": {
        "id": "yNWZB7luyXfp"
      }
    },
    {
      "cell_type": "code",
      "source": [
        "df.isnull().sum()"
      ],
      "metadata": {
        "id": "Vn6Bds1fyaok",
        "colab": {
          "base_uri": "https://localhost:8080/"
        },
        "outputId": "d42e47c2-c6b3-463b-8037-39822325aee3"
      },
      "execution_count": 4,
      "outputs": [
        {
          "output_type": "execute_result",
          "data": {
            "text/plain": [
              "ARREST_KEY                    0\n",
              "ARREST_DATE                   0\n",
              "PD_CD                        14\n",
              "PD_DESC                      69\n",
              "KY_CD                        69\n",
              "OFNS_DESC                    69\n",
              "LAW_CODE                      0\n",
              "LAW_CAT_CD                  530\n",
              "ARREST_BORO                   0\n",
              "ARREST_PRECINCT               0\n",
              "JURISDICTION_CODE             0\n",
              "AGE_GROUP                     0\n",
              "PERP_SEX                      0\n",
              "PERP_RACE                     0\n",
              "X_COORD_CD                    0\n",
              "Y_COORD_CD                    0\n",
              "Latitude                      0\n",
              "Longitude                     1\n",
              "New Georeferenced Column      1\n",
              "dtype: int64"
            ]
          },
          "metadata": {},
          "execution_count": 4
        }
      ]
    },
    {
      "cell_type": "markdown",
      "source": [
        "Since both the race column and the precinct columns are not missing any information I decided not to delete any rows or change the data w/in the fields.   "
      ],
      "metadata": {
        "id": "VtJ0u0Hs-OPt"
      }
    },
    {
      "cell_type": "code",
      "source": [
        "df2=df[['ARREST_KEY','ARREST_DATE','PERP_RACE','AGE_GROUP','OFNS_DESC','ARREST_BORO','ARREST_PRECINCT']]\n",
        "df2"
      ],
      "metadata": {
        "colab": {
          "base_uri": "https://localhost:8080/",
          "height": 424
        },
        "id": "govN05af8kuu",
        "outputId": "36a79186-1740-45dc-ff5b-9992920a8431"
      },
      "execution_count": 131,
      "outputs": [
        {
          "output_type": "execute_result",
          "data": {
            "text/html": [
              "\n",
              "  <div id=\"df-29e71669-7d4b-48e2-bbab-d7f66177a9bd\">\n",
              "    <div class=\"colab-df-container\">\n",
              "      <div>\n",
              "<style scoped>\n",
              "    .dataframe tbody tr th:only-of-type {\n",
              "        vertical-align: middle;\n",
              "    }\n",
              "\n",
              "    .dataframe tbody tr th {\n",
              "        vertical-align: top;\n",
              "    }\n",
              "\n",
              "    .dataframe thead th {\n",
              "        text-align: right;\n",
              "    }\n",
              "</style>\n",
              "<table border=\"1\" class=\"dataframe\">\n",
              "  <thead>\n",
              "    <tr style=\"text-align: right;\">\n",
              "      <th></th>\n",
              "      <th>ARREST_KEY</th>\n",
              "      <th>ARREST_DATE</th>\n",
              "      <th>PERP_RACE</th>\n",
              "      <th>AGE_GROUP</th>\n",
              "      <th>OFNS_DESC</th>\n",
              "      <th>ARREST_BORO</th>\n",
              "      <th>ARREST_PRECINCT</th>\n",
              "    </tr>\n",
              "  </thead>\n",
              "  <tbody>\n",
              "    <tr>\n",
              "      <th>0</th>\n",
              "      <td>238013474</td>\n",
              "      <td>12/18/2021</td>\n",
              "      <td>BLACK</td>\n",
              "      <td>18-24</td>\n",
              "      <td>RAPE</td>\n",
              "      <td>Q</td>\n",
              "      <td>105</td>\n",
              "    </tr>\n",
              "    <tr>\n",
              "      <th>1</th>\n",
              "      <td>236943583</td>\n",
              "      <td>11/25/2021</td>\n",
              "      <td>BLACK</td>\n",
              "      <td>25-44</td>\n",
              "      <td>ARSON</td>\n",
              "      <td>K</td>\n",
              "      <td>69</td>\n",
              "    </tr>\n",
              "    <tr>\n",
              "      <th>2</th>\n",
              "      <td>234938876</td>\n",
              "      <td>10/14/2021</td>\n",
              "      <td>WHITE</td>\n",
              "      <td>25-44</td>\n",
              "      <td>SEX CRIMES</td>\n",
              "      <td>K</td>\n",
              "      <td>61</td>\n",
              "    </tr>\n",
              "    <tr>\n",
              "      <th>3</th>\n",
              "      <td>234788259</td>\n",
              "      <td>10/11/2021</td>\n",
              "      <td>BLACK</td>\n",
              "      <td>18-24</td>\n",
              "      <td>ARSON</td>\n",
              "      <td>B</td>\n",
              "      <td>42</td>\n",
              "    </tr>\n",
              "    <tr>\n",
              "      <th>4</th>\n",
              "      <td>234188790</td>\n",
              "      <td>9/28/2021</td>\n",
              "      <td>BLACK</td>\n",
              "      <td>25-44</td>\n",
              "      <td>NaN</td>\n",
              "      <td>B</td>\n",
              "      <td>44</td>\n",
              "    </tr>\n",
              "    <tr>\n",
              "      <th>...</th>\n",
              "      <td>...</td>\n",
              "      <td>...</td>\n",
              "      <td>...</td>\n",
              "      <td>...</td>\n",
              "      <td>...</td>\n",
              "      <td>...</td>\n",
              "      <td>...</td>\n",
              "    </tr>\n",
              "    <tr>\n",
              "      <th>155502</th>\n",
              "      <td>222884924</td>\n",
              "      <td>1/10/2021</td>\n",
              "      <td>BLACK</td>\n",
              "      <td>45-64</td>\n",
              "      <td>ROBBERY</td>\n",
              "      <td>B</td>\n",
              "      <td>46</td>\n",
              "    </tr>\n",
              "    <tr>\n",
              "      <th>155503</th>\n",
              "      <td>223918625</td>\n",
              "      <td>2/3/2021</td>\n",
              "      <td>BLACK</td>\n",
              "      <td>18-24</td>\n",
              "      <td>DANGEROUS WEAPONS</td>\n",
              "      <td>K</td>\n",
              "      <td>67</td>\n",
              "    </tr>\n",
              "    <tr>\n",
              "      <th>155504</th>\n",
              "      <td>224323770</td>\n",
              "      <td>2/13/2021</td>\n",
              "      <td>BLACK</td>\n",
              "      <td>45-64</td>\n",
              "      <td>ASSAULT 3 &amp; RELATED OFFENSES</td>\n",
              "      <td>S</td>\n",
              "      <td>121</td>\n",
              "    </tr>\n",
              "    <tr>\n",
              "      <th>155505</th>\n",
              "      <td>222599533</td>\n",
              "      <td>1/4/2021</td>\n",
              "      <td>BLACK</td>\n",
              "      <td>25-44</td>\n",
              "      <td>DANGEROUS WEAPONS</td>\n",
              "      <td>K</td>\n",
              "      <td>73</td>\n",
              "    </tr>\n",
              "    <tr>\n",
              "      <th>155506</th>\n",
              "      <td>224056881</td>\n",
              "      <td>2/6/2021</td>\n",
              "      <td>ASIAN / PACIFIC ISLANDER</td>\n",
              "      <td>18-24</td>\n",
              "      <td>CRIMINAL MISCHIEF &amp; RELATED OF</td>\n",
              "      <td>Q</td>\n",
              "      <td>102</td>\n",
              "    </tr>\n",
              "  </tbody>\n",
              "</table>\n",
              "<p>155507 rows × 7 columns</p>\n",
              "</div>\n",
              "      <button class=\"colab-df-convert\" onclick=\"convertToInteractive('df-29e71669-7d4b-48e2-bbab-d7f66177a9bd')\"\n",
              "              title=\"Convert this dataframe to an interactive table.\"\n",
              "              style=\"display:none;\">\n",
              "        \n",
              "  <svg xmlns=\"http://www.w3.org/2000/svg\" height=\"24px\"viewBox=\"0 0 24 24\"\n",
              "       width=\"24px\">\n",
              "    <path d=\"M0 0h24v24H0V0z\" fill=\"none\"/>\n",
              "    <path d=\"M18.56 5.44l.94 2.06.94-2.06 2.06-.94-2.06-.94-.94-2.06-.94 2.06-2.06.94zm-11 1L8.5 8.5l.94-2.06 2.06-.94-2.06-.94L8.5 2.5l-.94 2.06-2.06.94zm10 10l.94 2.06.94-2.06 2.06-.94-2.06-.94-.94-2.06-.94 2.06-2.06.94z\"/><path d=\"M17.41 7.96l-1.37-1.37c-.4-.4-.92-.59-1.43-.59-.52 0-1.04.2-1.43.59L10.3 9.45l-7.72 7.72c-.78.78-.78 2.05 0 2.83L4 21.41c.39.39.9.59 1.41.59.51 0 1.02-.2 1.41-.59l7.78-7.78 2.81-2.81c.8-.78.8-2.07 0-2.86zM5.41 20L4 18.59l7.72-7.72 1.47 1.35L5.41 20z\"/>\n",
              "  </svg>\n",
              "      </button>\n",
              "      \n",
              "  <style>\n",
              "    .colab-df-container {\n",
              "      display:flex;\n",
              "      flex-wrap:wrap;\n",
              "      gap: 12px;\n",
              "    }\n",
              "\n",
              "    .colab-df-convert {\n",
              "      background-color: #E8F0FE;\n",
              "      border: none;\n",
              "      border-radius: 50%;\n",
              "      cursor: pointer;\n",
              "      display: none;\n",
              "      fill: #1967D2;\n",
              "      height: 32px;\n",
              "      padding: 0 0 0 0;\n",
              "      width: 32px;\n",
              "    }\n",
              "\n",
              "    .colab-df-convert:hover {\n",
              "      background-color: #E2EBFA;\n",
              "      box-shadow: 0px 1px 2px rgba(60, 64, 67, 0.3), 0px 1px 3px 1px rgba(60, 64, 67, 0.15);\n",
              "      fill: #174EA6;\n",
              "    }\n",
              "\n",
              "    [theme=dark] .colab-df-convert {\n",
              "      background-color: #3B4455;\n",
              "      fill: #D2E3FC;\n",
              "    }\n",
              "\n",
              "    [theme=dark] .colab-df-convert:hover {\n",
              "      background-color: #434B5C;\n",
              "      box-shadow: 0px 1px 3px 1px rgba(0, 0, 0, 0.15);\n",
              "      filter: drop-shadow(0px 1px 2px rgba(0, 0, 0, 0.3));\n",
              "      fill: #FFFFFF;\n",
              "    }\n",
              "  </style>\n",
              "\n",
              "      <script>\n",
              "        const buttonEl =\n",
              "          document.querySelector('#df-29e71669-7d4b-48e2-bbab-d7f66177a9bd button.colab-df-convert');\n",
              "        buttonEl.style.display =\n",
              "          google.colab.kernel.accessAllowed ? 'block' : 'none';\n",
              "\n",
              "        async function convertToInteractive(key) {\n",
              "          const element = document.querySelector('#df-29e71669-7d4b-48e2-bbab-d7f66177a9bd');\n",
              "          const dataTable =\n",
              "            await google.colab.kernel.invokeFunction('convertToInteractive',\n",
              "                                                     [key], {});\n",
              "          if (!dataTable) return;\n",
              "\n",
              "          const docLinkHtml = 'Like what you see? Visit the ' +\n",
              "            '<a target=\"_blank\" href=https://colab.research.google.com/notebooks/data_table.ipynb>data table notebook</a>'\n",
              "            + ' to learn more about interactive tables.';\n",
              "          element.innerHTML = '';\n",
              "          dataTable['output_type'] = 'display_data';\n",
              "          await google.colab.output.renderOutput(dataTable, element);\n",
              "          const docLink = document.createElement('div');\n",
              "          docLink.innerHTML = docLinkHtml;\n",
              "          element.appendChild(docLink);\n",
              "        }\n",
              "      </script>\n",
              "    </div>\n",
              "  </div>\n",
              "  "
            ],
            "text/plain": [
              "        ARREST_KEY ARREST_DATE                 PERP_RACE AGE_GROUP  \\\n",
              "0        238013474  12/18/2021                     BLACK     18-24   \n",
              "1        236943583  11/25/2021                     BLACK     25-44   \n",
              "2        234938876  10/14/2021                     WHITE     25-44   \n",
              "3        234788259  10/11/2021                     BLACK     18-24   \n",
              "4        234188790   9/28/2021                     BLACK     25-44   \n",
              "...            ...         ...                       ...       ...   \n",
              "155502   222884924   1/10/2021                     BLACK     45-64   \n",
              "155503   223918625    2/3/2021                     BLACK     18-24   \n",
              "155504   224323770   2/13/2021                     BLACK     45-64   \n",
              "155505   222599533    1/4/2021                     BLACK     25-44   \n",
              "155506   224056881    2/6/2021  ASIAN / PACIFIC ISLANDER     18-24   \n",
              "\n",
              "                             OFNS_DESC ARREST_BORO  ARREST_PRECINCT  \n",
              "0                                 RAPE           Q              105  \n",
              "1                                ARSON           K               69  \n",
              "2                           SEX CRIMES           K               61  \n",
              "3                                ARSON           B               42  \n",
              "4                                  NaN           B               44  \n",
              "...                                ...         ...              ...  \n",
              "155502                         ROBBERY           B               46  \n",
              "155503               DANGEROUS WEAPONS           K               67  \n",
              "155504    ASSAULT 3 & RELATED OFFENSES           S              121  \n",
              "155505               DANGEROUS WEAPONS           K               73  \n",
              "155506  CRIMINAL MISCHIEF & RELATED OF           Q              102  \n",
              "\n",
              "[155507 rows x 7 columns]"
            ]
          },
          "metadata": {},
          "execution_count": 131
        }
      ]
    },
    {
      "cell_type": "code",
      "source": [
        "df2['PERP_RACE'].unique()\n"
      ],
      "metadata": {
        "colab": {
          "base_uri": "https://localhost:8080/"
        },
        "id": "fGbXJ--SAApR",
        "outputId": "7a736583-5e7b-44da-a1c5-d887d58c106a"
      },
      "execution_count": 132,
      "outputs": [
        {
          "output_type": "execute_result",
          "data": {
            "text/plain": [
              "array(['BLACK', 'WHITE', 'WHITE HISPANIC', 'ASIAN / PACIFIC ISLANDER',\n",
              "       'AMERICAN INDIAN/ALASKAN NATIVE', 'BLACK HISPANIC', 'UNKNOWN'],\n",
              "      dtype=object)"
            ]
          },
          "metadata": {},
          "execution_count": 132
        }
      ]
    },
    {
      "cell_type": "code",
      "source": [
        "df2['ARREST_PRECINCT'].unique()"
      ],
      "metadata": {
        "colab": {
          "base_uri": "https://localhost:8080/"
        },
        "id": "dyEJYyOzDt9p",
        "outputId": "2cf4caf8-c43b-4f02-d38d-332eadcbbf99"
      },
      "execution_count": 133,
      "outputs": [
        {
          "output_type": "execute_result",
          "data": {
            "text/plain": [
              "array([105,  69,  61,  42,  44,  84, 106,  41, 114,  25, 112,  77, 113,\n",
              "        75,   5,  19,  40,  49,  66,  18,   9,  13,   7,  30,  28,  50,\n",
              "       108,  20,  43,  76, 120,  68, 121,  52,  14, 115,  23,  32, 110,\n",
              "        47,  79,  17, 103,  62,  70, 104,   6,  48,  81,  72, 111,  88,\n",
              "       102,  10, 107,  60,  73,  34,  45,  46, 101,  26, 100,  90, 109,\n",
              "        71,  78, 122,  67,  33,   1,  83,  94, 123,  24,  63,  22])"
            ]
          },
          "metadata": {},
          "execution_count": 133
        }
      ]
    },
    {
      "cell_type": "code",
      "source": [
        "df2['ARREST_BORO'].unique()"
      ],
      "metadata": {
        "colab": {
          "base_uri": "https://localhost:8080/"
        },
        "id": "5Q3TwCueD2eD",
        "outputId": "7a90770c-8d1c-49d9-c707-d5dae0b55ca0"
      },
      "execution_count": 134,
      "outputs": [
        {
          "output_type": "execute_result",
          "data": {
            "text/plain": [
              "array(['Q', 'K', 'B', 'M', 'S'], dtype=object)"
            ]
          },
          "metadata": {},
          "execution_count": 134
        }
      ]
    },
    {
      "cell_type": "code",
      "source": [
        "df3=df2.replace({'ARREST_BORO':{'Q':'Queens','K':'Brooklyn','B':'Bronx','M':'Manhattan','S':'Staten Island'}})\n",
        "df3\n"
      ],
      "metadata": {
        "colab": {
          "base_uri": "https://localhost:8080/",
          "height": 424
        },
        "id": "y8vz3RBzF9ri",
        "outputId": "956563fb-c5d8-4f66-c89b-4f94be232109"
      },
      "execution_count": 135,
      "outputs": [
        {
          "output_type": "execute_result",
          "data": {
            "text/html": [
              "\n",
              "  <div id=\"df-0e3a517b-81da-4ba6-883b-1564c0c9a0b8\">\n",
              "    <div class=\"colab-df-container\">\n",
              "      <div>\n",
              "<style scoped>\n",
              "    .dataframe tbody tr th:only-of-type {\n",
              "        vertical-align: middle;\n",
              "    }\n",
              "\n",
              "    .dataframe tbody tr th {\n",
              "        vertical-align: top;\n",
              "    }\n",
              "\n",
              "    .dataframe thead th {\n",
              "        text-align: right;\n",
              "    }\n",
              "</style>\n",
              "<table border=\"1\" class=\"dataframe\">\n",
              "  <thead>\n",
              "    <tr style=\"text-align: right;\">\n",
              "      <th></th>\n",
              "      <th>ARREST_KEY</th>\n",
              "      <th>ARREST_DATE</th>\n",
              "      <th>PERP_RACE</th>\n",
              "      <th>AGE_GROUP</th>\n",
              "      <th>OFNS_DESC</th>\n",
              "      <th>ARREST_BORO</th>\n",
              "      <th>ARREST_PRECINCT</th>\n",
              "    </tr>\n",
              "  </thead>\n",
              "  <tbody>\n",
              "    <tr>\n",
              "      <th>0</th>\n",
              "      <td>238013474</td>\n",
              "      <td>12/18/2021</td>\n",
              "      <td>BLACK</td>\n",
              "      <td>18-24</td>\n",
              "      <td>RAPE</td>\n",
              "      <td>Queens</td>\n",
              "      <td>105</td>\n",
              "    </tr>\n",
              "    <tr>\n",
              "      <th>1</th>\n",
              "      <td>236943583</td>\n",
              "      <td>11/25/2021</td>\n",
              "      <td>BLACK</td>\n",
              "      <td>25-44</td>\n",
              "      <td>ARSON</td>\n",
              "      <td>Brooklyn</td>\n",
              "      <td>69</td>\n",
              "    </tr>\n",
              "    <tr>\n",
              "      <th>2</th>\n",
              "      <td>234938876</td>\n",
              "      <td>10/14/2021</td>\n",
              "      <td>WHITE</td>\n",
              "      <td>25-44</td>\n",
              "      <td>SEX CRIMES</td>\n",
              "      <td>Brooklyn</td>\n",
              "      <td>61</td>\n",
              "    </tr>\n",
              "    <tr>\n",
              "      <th>3</th>\n",
              "      <td>234788259</td>\n",
              "      <td>10/11/2021</td>\n",
              "      <td>BLACK</td>\n",
              "      <td>18-24</td>\n",
              "      <td>ARSON</td>\n",
              "      <td>Bronx</td>\n",
              "      <td>42</td>\n",
              "    </tr>\n",
              "    <tr>\n",
              "      <th>4</th>\n",
              "      <td>234188790</td>\n",
              "      <td>9/28/2021</td>\n",
              "      <td>BLACK</td>\n",
              "      <td>25-44</td>\n",
              "      <td>NaN</td>\n",
              "      <td>Bronx</td>\n",
              "      <td>44</td>\n",
              "    </tr>\n",
              "    <tr>\n",
              "      <th>...</th>\n",
              "      <td>...</td>\n",
              "      <td>...</td>\n",
              "      <td>...</td>\n",
              "      <td>...</td>\n",
              "      <td>...</td>\n",
              "      <td>...</td>\n",
              "      <td>...</td>\n",
              "    </tr>\n",
              "    <tr>\n",
              "      <th>155502</th>\n",
              "      <td>222884924</td>\n",
              "      <td>1/10/2021</td>\n",
              "      <td>BLACK</td>\n",
              "      <td>45-64</td>\n",
              "      <td>ROBBERY</td>\n",
              "      <td>Bronx</td>\n",
              "      <td>46</td>\n",
              "    </tr>\n",
              "    <tr>\n",
              "      <th>155503</th>\n",
              "      <td>223918625</td>\n",
              "      <td>2/3/2021</td>\n",
              "      <td>BLACK</td>\n",
              "      <td>18-24</td>\n",
              "      <td>DANGEROUS WEAPONS</td>\n",
              "      <td>Brooklyn</td>\n",
              "      <td>67</td>\n",
              "    </tr>\n",
              "    <tr>\n",
              "      <th>155504</th>\n",
              "      <td>224323770</td>\n",
              "      <td>2/13/2021</td>\n",
              "      <td>BLACK</td>\n",
              "      <td>45-64</td>\n",
              "      <td>ASSAULT 3 &amp; RELATED OFFENSES</td>\n",
              "      <td>Staten Island</td>\n",
              "      <td>121</td>\n",
              "    </tr>\n",
              "    <tr>\n",
              "      <th>155505</th>\n",
              "      <td>222599533</td>\n",
              "      <td>1/4/2021</td>\n",
              "      <td>BLACK</td>\n",
              "      <td>25-44</td>\n",
              "      <td>DANGEROUS WEAPONS</td>\n",
              "      <td>Brooklyn</td>\n",
              "      <td>73</td>\n",
              "    </tr>\n",
              "    <tr>\n",
              "      <th>155506</th>\n",
              "      <td>224056881</td>\n",
              "      <td>2/6/2021</td>\n",
              "      <td>ASIAN / PACIFIC ISLANDER</td>\n",
              "      <td>18-24</td>\n",
              "      <td>CRIMINAL MISCHIEF &amp; RELATED OF</td>\n",
              "      <td>Queens</td>\n",
              "      <td>102</td>\n",
              "    </tr>\n",
              "  </tbody>\n",
              "</table>\n",
              "<p>155507 rows × 7 columns</p>\n",
              "</div>\n",
              "      <button class=\"colab-df-convert\" onclick=\"convertToInteractive('df-0e3a517b-81da-4ba6-883b-1564c0c9a0b8')\"\n",
              "              title=\"Convert this dataframe to an interactive table.\"\n",
              "              style=\"display:none;\">\n",
              "        \n",
              "  <svg xmlns=\"http://www.w3.org/2000/svg\" height=\"24px\"viewBox=\"0 0 24 24\"\n",
              "       width=\"24px\">\n",
              "    <path d=\"M0 0h24v24H0V0z\" fill=\"none\"/>\n",
              "    <path d=\"M18.56 5.44l.94 2.06.94-2.06 2.06-.94-2.06-.94-.94-2.06-.94 2.06-2.06.94zm-11 1L8.5 8.5l.94-2.06 2.06-.94-2.06-.94L8.5 2.5l-.94 2.06-2.06.94zm10 10l.94 2.06.94-2.06 2.06-.94-2.06-.94-.94-2.06-.94 2.06-2.06.94z\"/><path d=\"M17.41 7.96l-1.37-1.37c-.4-.4-.92-.59-1.43-.59-.52 0-1.04.2-1.43.59L10.3 9.45l-7.72 7.72c-.78.78-.78 2.05 0 2.83L4 21.41c.39.39.9.59 1.41.59.51 0 1.02-.2 1.41-.59l7.78-7.78 2.81-2.81c.8-.78.8-2.07 0-2.86zM5.41 20L4 18.59l7.72-7.72 1.47 1.35L5.41 20z\"/>\n",
              "  </svg>\n",
              "      </button>\n",
              "      \n",
              "  <style>\n",
              "    .colab-df-container {\n",
              "      display:flex;\n",
              "      flex-wrap:wrap;\n",
              "      gap: 12px;\n",
              "    }\n",
              "\n",
              "    .colab-df-convert {\n",
              "      background-color: #E8F0FE;\n",
              "      border: none;\n",
              "      border-radius: 50%;\n",
              "      cursor: pointer;\n",
              "      display: none;\n",
              "      fill: #1967D2;\n",
              "      height: 32px;\n",
              "      padding: 0 0 0 0;\n",
              "      width: 32px;\n",
              "    }\n",
              "\n",
              "    .colab-df-convert:hover {\n",
              "      background-color: #E2EBFA;\n",
              "      box-shadow: 0px 1px 2px rgba(60, 64, 67, 0.3), 0px 1px 3px 1px rgba(60, 64, 67, 0.15);\n",
              "      fill: #174EA6;\n",
              "    }\n",
              "\n",
              "    [theme=dark] .colab-df-convert {\n",
              "      background-color: #3B4455;\n",
              "      fill: #D2E3FC;\n",
              "    }\n",
              "\n",
              "    [theme=dark] .colab-df-convert:hover {\n",
              "      background-color: #434B5C;\n",
              "      box-shadow: 0px 1px 3px 1px rgba(0, 0, 0, 0.15);\n",
              "      filter: drop-shadow(0px 1px 2px rgba(0, 0, 0, 0.3));\n",
              "      fill: #FFFFFF;\n",
              "    }\n",
              "  </style>\n",
              "\n",
              "      <script>\n",
              "        const buttonEl =\n",
              "          document.querySelector('#df-0e3a517b-81da-4ba6-883b-1564c0c9a0b8 button.colab-df-convert');\n",
              "        buttonEl.style.display =\n",
              "          google.colab.kernel.accessAllowed ? 'block' : 'none';\n",
              "\n",
              "        async function convertToInteractive(key) {\n",
              "          const element = document.querySelector('#df-0e3a517b-81da-4ba6-883b-1564c0c9a0b8');\n",
              "          const dataTable =\n",
              "            await google.colab.kernel.invokeFunction('convertToInteractive',\n",
              "                                                     [key], {});\n",
              "          if (!dataTable) return;\n",
              "\n",
              "          const docLinkHtml = 'Like what you see? Visit the ' +\n",
              "            '<a target=\"_blank\" href=https://colab.research.google.com/notebooks/data_table.ipynb>data table notebook</a>'\n",
              "            + ' to learn more about interactive tables.';\n",
              "          element.innerHTML = '';\n",
              "          dataTable['output_type'] = 'display_data';\n",
              "          await google.colab.output.renderOutput(dataTable, element);\n",
              "          const docLink = document.createElement('div');\n",
              "          docLink.innerHTML = docLinkHtml;\n",
              "          element.appendChild(docLink);\n",
              "        }\n",
              "      </script>\n",
              "    </div>\n",
              "  </div>\n",
              "  "
            ],
            "text/plain": [
              "        ARREST_KEY ARREST_DATE                 PERP_RACE AGE_GROUP  \\\n",
              "0        238013474  12/18/2021                     BLACK     18-24   \n",
              "1        236943583  11/25/2021                     BLACK     25-44   \n",
              "2        234938876  10/14/2021                     WHITE     25-44   \n",
              "3        234788259  10/11/2021                     BLACK     18-24   \n",
              "4        234188790   9/28/2021                     BLACK     25-44   \n",
              "...            ...         ...                       ...       ...   \n",
              "155502   222884924   1/10/2021                     BLACK     45-64   \n",
              "155503   223918625    2/3/2021                     BLACK     18-24   \n",
              "155504   224323770   2/13/2021                     BLACK     45-64   \n",
              "155505   222599533    1/4/2021                     BLACK     25-44   \n",
              "155506   224056881    2/6/2021  ASIAN / PACIFIC ISLANDER     18-24   \n",
              "\n",
              "                             OFNS_DESC    ARREST_BORO  ARREST_PRECINCT  \n",
              "0                                 RAPE         Queens              105  \n",
              "1                                ARSON       Brooklyn               69  \n",
              "2                           SEX CRIMES       Brooklyn               61  \n",
              "3                                ARSON          Bronx               42  \n",
              "4                                  NaN          Bronx               44  \n",
              "...                                ...            ...              ...  \n",
              "155502                         ROBBERY          Bronx               46  \n",
              "155503               DANGEROUS WEAPONS       Brooklyn               67  \n",
              "155504    ASSAULT 3 & RELATED OFFENSES  Staten Island              121  \n",
              "155505               DANGEROUS WEAPONS       Brooklyn               73  \n",
              "155506  CRIMINAL MISCHIEF & RELATED OF         Queens              102  \n",
              "\n",
              "[155507 rows x 7 columns]"
            ]
          },
          "metadata": {},
          "execution_count": 135
        }
      ]
    },
    {
      "cell_type": "markdown",
      "source": [
        "Running the unique values above allows me to get determine whether group by race (7) and/or precints (77) will provide useful visual tables. "
      ],
      "metadata": {
        "id": "I3WUD3_lAxji"
      }
    },
    {
      "cell_type": "code",
      "source": [
        "df3.groupby(['PERP_RACE']).count().plot(kind=\"bar\")"
      ],
      "metadata": {
        "colab": {
          "base_uri": "https://localhost:8080/",
          "height": 468
        },
        "id": "Hh0S32IaBTDQ",
        "outputId": "398adec3-9c4b-454a-8fdc-f5bcb9dbea46"
      },
      "execution_count": 136,
      "outputs": [
        {
          "output_type": "execute_result",
          "data": {
            "text/plain": [
              "<matplotlib.axes._subplots.AxesSubplot at 0x7f07da1ac0d0>"
            ]
          },
          "metadata": {},
          "execution_count": 136
        },
        {
          "output_type": "display_data",
          "data": {
            "image/png": "[encoded data removed]",
            "text/plain": [
              "<Figure size 432x288 with 1 Axes>"
            ]
          },
          "metadata": {
            "needs_background": "light"
          }
        }
      ]
    },
    {
      "cell_type": "markdown",
      "source": [
        "Already with the bar graph above the data shows Black people have a higher rate of arrest compared to the other races in NY City. "
      ],
      "metadata": {
        "id": "HdoyI8FcFYWj"
      }
    },
    {
      "cell_type": "code",
      "source": [
        "df3.groupby(['ARREST_BORO'])['PERP_RACE'].count()"
      ],
      "metadata": {
        "colab": {
          "base_uri": "https://localhost:8080/"
        },
        "id": "l6vuIpBMUgt9",
        "outputId": "b32c73a0-85e8-4afe-8dbe-5e6e999d5d7d"
      },
      "execution_count": 137,
      "outputs": [
        {
          "output_type": "execute_result",
          "data": {
            "text/plain": [
              "ARREST_BORO\n",
              "Bronx            34018\n",
              "Brooklyn         41550\n",
              "Manhattan        39677\n",
              "Queens           33051\n",
              "Staten Island     7211\n",
              "Name: PERP_RACE, dtype: int64"
            ]
          },
          "metadata": {},
          "execution_count": 137
        }
      ]
    },
    {
      "cell_type": "code",
      "source": [
        "df3.groupby(['ARREST_BORO']).count().plot(kind=\"bar\")"
      ],
      "metadata": {
        "colab": {
          "base_uri": "https://localhost:8080/",
          "height": 353
        },
        "id": "dTA6c9b-S5LP",
        "outputId": "751c958a-40b6-448b-ac8f-975f467a5c81"
      },
      "execution_count": 138,
      "outputs": [
        {
          "output_type": "execute_result",
          "data": {
            "text/plain": [
              "<matplotlib.axes._subplots.AxesSubplot at 0x7f07d9f4ad10>"
            ]
          },
          "metadata": {},
          "execution_count": 138
        },
        {
          "output_type": "display_data",
          "data": {
            "image/png": "[encoded data removed]",
            "text/plain": [
              "<Figure size 432x288 with 1 Axes>"
            ]
          },
          "metadata": {
            "needs_background": "light"
          }
        }
      ]
    },
    {
      "cell_type": "markdown",
      "source": [
        "Pulling additional information from https://worldpopulationreview.com/boroughs/brooklyn-population and https://worldpopulationreview.com/boroughs/manhattan-population I wanted to get an idea of what is the overall population  of Brooklyn & Manhattan based on race, which happens to be the two boroughs with the highest number of overall arrest. "
      ],
      "metadata": {
        "id": "uMSa5CODfM1U"
      }
    },
    {
      "cell_type": "code",
      "source": [
        "df4=pd.read_csv('/content/Brooklyn Population by Race.csv')\n",
        "df4\n"
      ],
      "metadata": {
        "colab": {
          "base_uri": "https://localhost:8080/",
          "height": 269
        },
        "id": "SsFFsW3-eynH",
        "outputId": "00869df6-2df4-4fc1-f316-b394620f3733"
      },
      "execution_count": 139,
      "outputs": [
        {
          "output_type": "execute_result",
          "data": {
            "text/html": [
              "\n",
              "  <div id=\"df-5258aeef-54ee-44df-91df-b3a7db256f56\">\n",
              "    <div class=\"colab-df-container\">\n",
              "      <div>\n",
              "<style scoped>\n",
              "    .dataframe tbody tr th:only-of-type {\n",
              "        vertical-align: middle;\n",
              "    }\n",
              "\n",
              "    .dataframe tbody tr th {\n",
              "        vertical-align: top;\n",
              "    }\n",
              "\n",
              "    .dataframe thead th {\n",
              "        text-align: right;\n",
              "    }\n",
              "</style>\n",
              "<table border=\"1\" class=\"dataframe\">\n",
              "  <thead>\n",
              "    <tr style=\"text-align: right;\">\n",
              "      <th></th>\n",
              "      <th>Race</th>\n",
              "      <th>Population</th>\n",
              "      <th>Percentage</th>\n",
              "    </tr>\n",
              "  </thead>\n",
              "  <tbody>\n",
              "    <tr>\n",
              "      <th>0</th>\n",
              "      <td>White</td>\n",
              "      <td>1132426</td>\n",
              "      <td>0.4372</td>\n",
              "    </tr>\n",
              "    <tr>\n",
              "      <th>1</th>\n",
              "      <td>Black or African American</td>\n",
              "      <td>833683</td>\n",
              "      <td>0.3219</td>\n",
              "    </tr>\n",
              "    <tr>\n",
              "      <th>2</th>\n",
              "      <td>Asian</td>\n",
              "      <td>307081</td>\n",
              "      <td>0.1186</td>\n",
              "    </tr>\n",
              "    <tr>\n",
              "      <th>3</th>\n",
              "      <td>Some Other Race</td>\n",
              "      <td>225162</td>\n",
              "      <td>0.0869</td>\n",
              "    </tr>\n",
              "    <tr>\n",
              "      <th>4</th>\n",
              "      <td>Two or More Races</td>\n",
              "      <td>81786</td>\n",
              "      <td>0.0316</td>\n",
              "    </tr>\n",
              "    <tr>\n",
              "      <th>5</th>\n",
              "      <td>American Indian and Alaska Native</td>\n",
              "      <td>8604</td>\n",
              "      <td>0.0033</td>\n",
              "    </tr>\n",
              "    <tr>\n",
              "      <th>6</th>\n",
              "      <td>Native Hawaiian and Other Pacific Islander</td>\n",
              "      <td>1232</td>\n",
              "      <td>0.0005</td>\n",
              "    </tr>\n",
              "  </tbody>\n",
              "</table>\n",
              "</div>\n",
              "      <button class=\"colab-df-convert\" onclick=\"convertToInteractive('df-5258aeef-54ee-44df-91df-b3a7db256f56')\"\n",
              "              title=\"Convert this dataframe to an interactive table.\"\n",
              "              style=\"display:none;\">\n",
              "        \n",
              "  <svg xmlns=\"http://www.w3.org/2000/svg\" height=\"24px\"viewBox=\"0 0 24 24\"\n",
              "       width=\"24px\">\n",
              "    <path d=\"M0 0h24v24H0V0z\" fill=\"none\"/>\n",
              "    <path d=\"M18.56 5.44l.94 2.06.94-2.06 2.06-.94-2.06-.94-.94-2.06-.94 2.06-2.06.94zm-11 1L8.5 8.5l.94-2.06 2.06-.94-2.06-.94L8.5 2.5l-.94 2.06-2.06.94zm10 10l.94 2.06.94-2.06 2.06-.94-2.06-.94-.94-2.06-.94 2.06-2.06.94z\"/><path d=\"M17.41 7.96l-1.37-1.37c-.4-.4-.92-.59-1.43-.59-.52 0-1.04.2-1.43.59L10.3 9.45l-7.72 7.72c-.78.78-.78 2.05 0 2.83L4 21.41c.39.39.9.59 1.41.59.51 0 1.02-.2 1.41-.59l7.78-7.78 2.81-2.81c.8-.78.8-2.07 0-2.86zM5.41 20L4 18.59l7.72-7.72 1.47 1.35L5.41 20z\"/>\n",
              "  </svg>\n",
              "      </button>\n",
              "      \n",
              "  <style>\n",
              "    .colab-df-container {\n",
              "      display:flex;\n",
              "      flex-wrap:wrap;\n",
              "      gap: 12px;\n",
              "    }\n",
              "\n",
              "    .colab-df-convert {\n",
              "      background-color: #E8F0FE;\n",
              "      border: none;\n",
              "      border-radius: 50%;\n",
              "      cursor: pointer;\n",
              "      display: none;\n",
              "      fill: #1967D2;\n",
              "      height: 32px;\n",
              "      padding: 0 0 0 0;\n",
              "      width: 32px;\n",
              "    }\n",
              "\n",
              "    .colab-df-convert:hover {\n",
              "      background-color: #E2EBFA;\n",
              "      box-shadow: 0px 1px 2px rgba(60, 64, 67, 0.3), 0px 1px 3px 1px rgba(60, 64, 67, 0.15);\n",
              "      fill: #174EA6;\n",
              "    }\n",
              "\n",
              "    [theme=dark] .colab-df-convert {\n",
              "      background-color: #3B4455;\n",
              "      fill: #D2E3FC;\n",
              "    }\n",
              "\n",
              "    [theme=dark] .colab-df-convert:hover {\n",
              "      background-color: #434B5C;\n",
              "      box-shadow: 0px 1px 3px 1px rgba(0, 0, 0, 0.15);\n",
              "      filter: drop-shadow(0px 1px 2px rgba(0, 0, 0, 0.3));\n",
              "      fill: #FFFFFF;\n",
              "    }\n",
              "  </style>\n",
              "\n",
              "      <script>\n",
              "        const buttonEl =\n",
              "          document.querySelector('#df-5258aeef-54ee-44df-91df-b3a7db256f56 button.colab-df-convert');\n",
              "        buttonEl.style.display =\n",
              "          google.colab.kernel.accessAllowed ? 'block' : 'none';\n",
              "\n",
              "        async function convertToInteractive(key) {\n",
              "          const element = document.querySelector('#df-5258aeef-54ee-44df-91df-b3a7db256f56');\n",
              "          const dataTable =\n",
              "            await google.colab.kernel.invokeFunction('convertToInteractive',\n",
              "                                                     [key], {});\n",
              "          if (!dataTable) return;\n",
              "\n",
              "          const docLinkHtml = 'Like what you see? Visit the ' +\n",
              "            '<a target=\"_blank\" href=https://colab.research.google.com/notebooks/data_table.ipynb>data table notebook</a>'\n",
              "            + ' to learn more about interactive tables.';\n",
              "          element.innerHTML = '';\n",
              "          dataTable['output_type'] = 'display_data';\n",
              "          await google.colab.output.renderOutput(dataTable, element);\n",
              "          const docLink = document.createElement('div');\n",
              "          docLink.innerHTML = docLinkHtml;\n",
              "          element.appendChild(docLink);\n",
              "        }\n",
              "      </script>\n",
              "    </div>\n",
              "  </div>\n",
              "  "
            ],
            "text/plain": [
              "                                         Race  Population  Percentage\n",
              "0                                       White     1132426      0.4372\n",
              "1                   Black or African American      833683      0.3219\n",
              "2                                       Asian      307081      0.1186\n",
              "3                             Some Other Race      225162      0.0869\n",
              "4                           Two or More Races       81786      0.0316\n",
              "5           American Indian and Alaska Native        8604      0.0033\n",
              "6  Native Hawaiian and Other Pacific Islander        1232      0.0005"
            ]
          },
          "metadata": {},
          "execution_count": 139
        }
      ]
    },
    {
      "cell_type": "code",
      "source": [
        "df4['Race'].unique()"
      ],
      "metadata": {
        "colab": {
          "base_uri": "https://localhost:8080/"
        },
        "id": "_bFT0lN6rPnN",
        "outputId": "84bfe350-146f-4bae-9dc4-b863f36fe832"
      },
      "execution_count": 140,
      "outputs": [
        {
          "output_type": "execute_result",
          "data": {
            "text/plain": [
              "array(['White', 'Black or African American', 'Asian', 'Some Other Race',\n",
              "       'Two or More Races', 'American Indian and Alaska Native',\n",
              "       'Native Hawaiian and Other Pacific Islander'], dtype=object)"
            ]
          },
          "metadata": {},
          "execution_count": 140
        }
      ]
    },
    {
      "cell_type": "code",
      "source": [
        "df4['Percentage'].unique()"
      ],
      "metadata": {
        "colab": {
          "base_uri": "https://localhost:8080/"
        },
        "id": "CMmiMgI1sGtq",
        "outputId": "7418a299-817c-4fa8-c0cf-45daf67fcfda"
      },
      "execution_count": 101,
      "outputs": [
        {
          "output_type": "execute_result",
          "data": {
            "text/plain": [
              "array([0.4372, 0.3219, 0.1186, 0.0869, 0.0316, 0.0033, 0.0005])"
            ]
          },
          "metadata": {},
          "execution_count": 101
        }
      ]
    },
    {
      "cell_type": "code",
      "source": [
        "y=np.array([0.4372, 0.3219, 0.1186, 0.0869, 0.0316, 0.0033, 0.0005])\n",
        "my_labels = 'White', 'Black or African American', 'Asian', 'Some Other Race','Two or More Races', 'American Indian and Alaska Native','Native Hawaiian and Other Pacific Islander'\n",
        "colors = ['steelblue','lightgreen','pink','orange','silver','blue','red']\n",
        "explode = (0.03, 0.03, 0.03, 0.03, 0.03, 0.03, 0.03,)\n",
        "plt.title('BROOKLYN POPULATION BY RACE')\n",
        "plt.pie(y, labels=my_labels, autopct='%1.1f%%', colors=colors, explode=explode)\n",
        "plt.show()\n"
      ],
      "metadata": {
        "colab": {
          "base_uri": "https://localhost:8080/",
          "height": 264
        },
        "id": "vOxKarsfq116",
        "outputId": "abe2d012-4b8b-4e53-f0dd-17fe73540f7a"
      },
      "execution_count": 141,
      "outputs": [
        {
          "output_type": "display_data",
          "data": {
            "image/png": "[encoded data removed]",
            "text/plain": [
              "<Figure size 432x288 with 1 Axes>"
            ]
          },
          "metadata": {}
        }
      ]
    },
    {
      "cell_type": "markdown",
      "source": [
        "Manhattan Info Below"
      ],
      "metadata": {
        "id": "LUyFFQDB2NT6"
      }
    },
    {
      "cell_type": "code",
      "source": [
        "df5=pd.read_csv('/content/Manhattan Population by Race.csv')\n",
        "df5"
      ],
      "metadata": {
        "colab": {
          "base_uri": "https://localhost:8080/",
          "height": 269
        },
        "id": "FZ7B0y6O2kfl",
        "outputId": "c81aae06-47fe-4809-8967-df09765d1a77"
      },
      "execution_count": 142,
      "outputs": [
        {
          "output_type": "execute_result",
          "data": {
            "text/html": [
              "\n",
              "  <div id=\"df-c70b6eeb-3e54-4a3f-ac2b-b8dab0321c7f\">\n",
              "    <div class=\"colab-df-container\">\n",
              "      <div>\n",
              "<style scoped>\n",
              "    .dataframe tbody tr th:only-of-type {\n",
              "        vertical-align: middle;\n",
              "    }\n",
              "\n",
              "    .dataframe tbody tr th {\n",
              "        vertical-align: top;\n",
              "    }\n",
              "\n",
              "    .dataframe thead th {\n",
              "        text-align: right;\n",
              "    }\n",
              "</style>\n",
              "<table border=\"1\" class=\"dataframe\">\n",
              "  <thead>\n",
              "    <tr style=\"text-align: right;\">\n",
              "      <th></th>\n",
              "      <th>Race</th>\n",
              "      <th>Population</th>\n",
              "      <th>Percentage</th>\n",
              "    </tr>\n",
              "  </thead>\n",
              "  <tbody>\n",
              "    <tr>\n",
              "      <th>0</th>\n",
              "      <td>White</td>\n",
              "      <td>922033</td>\n",
              "      <td>0.5650</td>\n",
              "    </tr>\n",
              "    <tr>\n",
              "      <th>1</th>\n",
              "      <td>Black or African American</td>\n",
              "      <td>240993</td>\n",
              "      <td>0.1477</td>\n",
              "    </tr>\n",
              "    <tr>\n",
              "      <th>2</th>\n",
              "      <td>Asian</td>\n",
              "      <td>198833</td>\n",
              "      <td>0.1218</td>\n",
              "    </tr>\n",
              "    <tr>\n",
              "      <th>3</th>\n",
              "      <td>Some Other Race</td>\n",
              "      <td>188400</td>\n",
              "      <td>0.1154</td>\n",
              "    </tr>\n",
              "    <tr>\n",
              "      <th>4</th>\n",
              "      <td>Two or More Races</td>\n",
              "      <td>74668</td>\n",
              "      <td>0.0458</td>\n",
              "    </tr>\n",
              "    <tr>\n",
              "      <th>5</th>\n",
              "      <td>American Indian and Alaska Native</td>\n",
              "      <td>6178</td>\n",
              "      <td>0.0038</td>\n",
              "    </tr>\n",
              "    <tr>\n",
              "      <th>6</th>\n",
              "      <td>Native Hawaiian and Other Pacific Islander</td>\n",
              "      <td>888</td>\n",
              "      <td>0.0005</td>\n",
              "    </tr>\n",
              "  </tbody>\n",
              "</table>\n",
              "</div>\n",
              "      <button class=\"colab-df-convert\" onclick=\"convertToInteractive('df-c70b6eeb-3e54-4a3f-ac2b-b8dab0321c7f')\"\n",
              "              title=\"Convert this dataframe to an interactive table.\"\n",
              "              style=\"display:none;\">\n",
              "        \n",
              "  <svg xmlns=\"http://www.w3.org/2000/svg\" height=\"24px\"viewBox=\"0 0 24 24\"\n",
              "       width=\"24px\">\n",
              "    <path d=\"M0 0h24v24H0V0z\" fill=\"none\"/>\n",
              "    <path d=\"M18.56 5.44l.94 2.06.94-2.06 2.06-.94-2.06-.94-.94-2.06-.94 2.06-2.06.94zm-11 1L8.5 8.5l.94-2.06 2.06-.94-2.06-.94L8.5 2.5l-.94 2.06-2.06.94zm10 10l.94 2.06.94-2.06 2.06-.94-2.06-.94-.94-2.06-.94 2.06-2.06.94z\"/><path d=\"M17.41 7.96l-1.37-1.37c-.4-.4-.92-.59-1.43-.59-.52 0-1.04.2-1.43.59L10.3 9.45l-7.72 7.72c-.78.78-.78 2.05 0 2.83L4 21.41c.39.39.9.59 1.41.59.51 0 1.02-.2 1.41-.59l7.78-7.78 2.81-2.81c.8-.78.8-2.07 0-2.86zM5.41 20L4 18.59l7.72-7.72 1.47 1.35L5.41 20z\"/>\n",
              "  </svg>\n",
              "      </button>\n",
              "      \n",
              "  <style>\n",
              "    .colab-df-container {\n",
              "      display:flex;\n",
              "      flex-wrap:wrap;\n",
              "      gap: 12px;\n",
              "    }\n",
              "\n",
              "    .colab-df-convert {\n",
              "      background-color: #E8F0FE;\n",
              "      border: none;\n",
              "      border-radius: 50%;\n",
              "      cursor: pointer;\n",
              "      display: none;\n",
              "      fill: #1967D2;\n",
              "      height: 32px;\n",
              "      padding: 0 0 0 0;\n",
              "      width: 32px;\n",
              "    }\n",
              "\n",
              "    .colab-df-convert:hover {\n",
              "      background-color: #E2EBFA;\n",
              "      box-shadow: 0px 1px 2px rgba(60, 64, 67, 0.3), 0px 1px 3px 1px rgba(60, 64, 67, 0.15);\n",
              "      fill: #174EA6;\n",
              "    }\n",
              "\n",
              "    [theme=dark] .colab-df-convert {\n",
              "      background-color: #3B4455;\n",
              "      fill: #D2E3FC;\n",
              "    }\n",
              "\n",
              "    [theme=dark] .colab-df-convert:hover {\n",
              "      background-color: #434B5C;\n",
              "      box-shadow: 0px 1px 3px 1px rgba(0, 0, 0, 0.15);\n",
              "      filter: drop-shadow(0px 1px 2px rgba(0, 0, 0, 0.3));\n",
              "      fill: #FFFFFF;\n",
              "    }\n",
              "  </style>\n",
              "\n",
              "      <script>\n",
              "        const buttonEl =\n",
              "          document.querySelector('#df-c70b6eeb-3e54-4a3f-ac2b-b8dab0321c7f button.colab-df-convert');\n",
              "        buttonEl.style.display =\n",
              "          google.colab.kernel.accessAllowed ? 'block' : 'none';\n",
              "\n",
              "        async function convertToInteractive(key) {\n",
              "          const element = document.querySelector('#df-c70b6eeb-3e54-4a3f-ac2b-b8dab0321c7f');\n",
              "          const dataTable =\n",
              "            await google.colab.kernel.invokeFunction('convertToInteractive',\n",
              "                                                     [key], {});\n",
              "          if (!dataTable) return;\n",
              "\n",
              "          const docLinkHtml = 'Like what you see? Visit the ' +\n",
              "            '<a target=\"_blank\" href=https://colab.research.google.com/notebooks/data_table.ipynb>data table notebook</a>'\n",
              "            + ' to learn more about interactive tables.';\n",
              "          element.innerHTML = '';\n",
              "          dataTable['output_type'] = 'display_data';\n",
              "          await google.colab.output.renderOutput(dataTable, element);\n",
              "          const docLink = document.createElement('div');\n",
              "          docLink.innerHTML = docLinkHtml;\n",
              "          element.appendChild(docLink);\n",
              "        }\n",
              "      </script>\n",
              "    </div>\n",
              "  </div>\n",
              "  "
            ],
            "text/plain": [
              "                                         Race  Population  Percentage\n",
              "0                                       White      922033      0.5650\n",
              "1                   Black or African American      240993      0.1477\n",
              "2                                       Asian      198833      0.1218\n",
              "3                             Some Other Race      188400      0.1154\n",
              "4                           Two or More Races       74668      0.0458\n",
              "5           American Indian and Alaska Native        6178      0.0038\n",
              "6  Native Hawaiian and Other Pacific Islander         888      0.0005"
            ]
          },
          "metadata": {},
          "execution_count": 142
        }
      ]
    },
    {
      "cell_type": "code",
      "source": [
        "y=np.array([0.5650, 0.1477, 0.1218, 0.1154, 0.0458, 0.0038,0.0005])\n",
        "my_labels = 'White', 'Black or African American', 'Asian', 'Some Other Race','Two or More Races', 'American Indian and Alaska Native','Native Hawaiian and Other Pacific Islander'\n",
        "colors = ['steelblue','lightgreen','pink','orange','silver','blue','red']\n",
        "explode = (0.03, 0.03, 0.03, 0.03, 0.03, 0.03, 0.03,)\n",
        "plt.title('MANHATTAN POPULATION BY RACE')\n",
        "plt.pie(y, labels=my_labels, autopct='%1.1f%%', colors=colors, explode=explode)\n",
        "plt.show()"
      ],
      "metadata": {
        "colab": {
          "base_uri": "https://localhost:8080/",
          "height": 264
        },
        "id": "hjLXPMTC3IUO",
        "outputId": "65f6ee30-0fb7-4e95-f163-d11e73c0919c"
      },
      "execution_count": 143,
      "outputs": [
        {
          "output_type": "display_data",
          "data": {
            "image/png": "[encoded data removed]",
            "text/plain": [
              "<Figure size 432x288 with 1 Axes>"
            ]
          },
          "metadata": {}
        }
      ]
    },
    {
      "cell_type": "code",
      "source": [
        "df6=pd.read_csv('/content/New York City Total Population.csv')\n",
        "df6"
      ],
      "metadata": {
        "colab": {
          "base_uri": "https://localhost:8080/",
          "height": 269
        },
        "id": "EQKZCUXw6P3z",
        "outputId": "440ca175-e33f-437e-a5d2-0ee9df16b85e"
      },
      "execution_count": 144,
      "outputs": [
        {
          "output_type": "execute_result",
          "data": {
            "text/html": [
              "\n",
              "  <div id=\"df-b4da56b0-a4ec-4fa9-8d7f-7003fbc11375\">\n",
              "    <div class=\"colab-df-container\">\n",
              "      <div>\n",
              "<style scoped>\n",
              "    .dataframe tbody tr th:only-of-type {\n",
              "        vertical-align: middle;\n",
              "    }\n",
              "\n",
              "    .dataframe tbody tr th {\n",
              "        vertical-align: top;\n",
              "    }\n",
              "\n",
              "    .dataframe thead th {\n",
              "        text-align: right;\n",
              "    }\n",
              "</style>\n",
              "<table border=\"1\" class=\"dataframe\">\n",
              "  <thead>\n",
              "    <tr style=\"text-align: right;\">\n",
              "      <th></th>\n",
              "      <th>Race</th>\n",
              "      <th>Population</th>\n",
              "      <th>Percentage</th>\n",
              "    </tr>\n",
              "  </thead>\n",
              "  <tbody>\n",
              "    <tr>\n",
              "      <th>0</th>\n",
              "      <td>White</td>\n",
              "      <td>3597221</td>\n",
              "      <td>0.4273</td>\n",
              "    </tr>\n",
              "    <tr>\n",
              "      <th>1</th>\n",
              "      <td>Black or African American</td>\n",
              "      <td>2046878</td>\n",
              "      <td>0.2431</td>\n",
              "    </tr>\n",
              "    <tr>\n",
              "      <th>2</th>\n",
              "      <td>Some Other Race</td>\n",
              "      <td>1241618</td>\n",
              "      <td>0.1475</td>\n",
              "    </tr>\n",
              "    <tr>\n",
              "      <th>3</th>\n",
              "      <td>Asian</td>\n",
              "      <td>1186606</td>\n",
              "      <td>0.1409</td>\n",
              "    </tr>\n",
              "    <tr>\n",
              "      <th>4</th>\n",
              "      <td>Two or More Races</td>\n",
              "      <td>305948</td>\n",
              "      <td>0.0363</td>\n",
              "    </tr>\n",
              "    <tr>\n",
              "      <th>5</th>\n",
              "      <td>American Indian and Alaska Native</td>\n",
              "      <td>36250</td>\n",
              "      <td>0.0043</td>\n",
              "    </tr>\n",
              "    <tr>\n",
              "      <th>6</th>\n",
              "      <td>Native Hawaiian and Other Pacific Islander</td>\n",
              "      <td>4802</td>\n",
              "      <td>0.0006</td>\n",
              "    </tr>\n",
              "  </tbody>\n",
              "</table>\n",
              "</div>\n",
              "      <button class=\"colab-df-convert\" onclick=\"convertToInteractive('df-b4da56b0-a4ec-4fa9-8d7f-7003fbc11375')\"\n",
              "              title=\"Convert this dataframe to an interactive table.\"\n",
              "              style=\"display:none;\">\n",
              "        \n",
              "  <svg xmlns=\"http://www.w3.org/2000/svg\" height=\"24px\"viewBox=\"0 0 24 24\"\n",
              "       width=\"24px\">\n",
              "    <path d=\"M0 0h24v24H0V0z\" fill=\"none\"/>\n",
              "    <path d=\"M18.56 5.44l.94 2.06.94-2.06 2.06-.94-2.06-.94-.94-2.06-.94 2.06-2.06.94zm-11 1L8.5 8.5l.94-2.06 2.06-.94-2.06-.94L8.5 2.5l-.94 2.06-2.06.94zm10 10l.94 2.06.94-2.06 2.06-.94-2.06-.94-.94-2.06-.94 2.06-2.06.94z\"/><path d=\"M17.41 7.96l-1.37-1.37c-.4-.4-.92-.59-1.43-.59-.52 0-1.04.2-1.43.59L10.3 9.45l-7.72 7.72c-.78.78-.78 2.05 0 2.83L4 21.41c.39.39.9.59 1.41.59.51 0 1.02-.2 1.41-.59l7.78-7.78 2.81-2.81c.8-.78.8-2.07 0-2.86zM5.41 20L4 18.59l7.72-7.72 1.47 1.35L5.41 20z\"/>\n",
              "  </svg>\n",
              "      </button>\n",
              "      \n",
              "  <style>\n",
              "    .colab-df-container {\n",
              "      display:flex;\n",
              "      flex-wrap:wrap;\n",
              "      gap: 12px;\n",
              "    }\n",
              "\n",
              "    .colab-df-convert {\n",
              "      background-color: #E8F0FE;\n",
              "      border: none;\n",
              "      border-radius: 50%;\n",
              "      cursor: pointer;\n",
              "      display: none;\n",
              "      fill: #1967D2;\n",
              "      height: 32px;\n",
              "      padding: 0 0 0 0;\n",
              "      width: 32px;\n",
              "    }\n",
              "\n",
              "    .colab-df-convert:hover {\n",
              "      background-color: #E2EBFA;\n",
              "      box-shadow: 0px 1px 2px rgba(60, 64, 67, 0.3), 0px 1px 3px 1px rgba(60, 64, 67, 0.15);\n",
              "      fill: #174EA6;\n",
              "    }\n",
              "\n",
              "    [theme=dark] .colab-df-convert {\n",
              "      background-color: #3B4455;\n",
              "      fill: #D2E3FC;\n",
              "    }\n",
              "\n",
              "    [theme=dark] .colab-df-convert:hover {\n",
              "      background-color: #434B5C;\n",
              "      box-shadow: 0px 1px 3px 1px rgba(0, 0, 0, 0.15);\n",
              "      filter: drop-shadow(0px 1px 2px rgba(0, 0, 0, 0.3));\n",
              "      fill: #FFFFFF;\n",
              "    }\n",
              "  </style>\n",
              "\n",
              "      <script>\n",
              "        const buttonEl =\n",
              "          document.querySelector('#df-b4da56b0-a4ec-4fa9-8d7f-7003fbc11375 button.colab-df-convert');\n",
              "        buttonEl.style.display =\n",
              "          google.colab.kernel.accessAllowed ? 'block' : 'none';\n",
              "\n",
              "        async function convertToInteractive(key) {\n",
              "          const element = document.querySelector('#df-b4da56b0-a4ec-4fa9-8d7f-7003fbc11375');\n",
              "          const dataTable =\n",
              "            await google.colab.kernel.invokeFunction('convertToInteractive',\n",
              "                                                     [key], {});\n",
              "          if (!dataTable) return;\n",
              "\n",
              "          const docLinkHtml = 'Like what you see? Visit the ' +\n",
              "            '<a target=\"_blank\" href=https://colab.research.google.com/notebooks/data_table.ipynb>data table notebook</a>'\n",
              "            + ' to learn more about interactive tables.';\n",
              "          element.innerHTML = '';\n",
              "          dataTable['output_type'] = 'display_data';\n",
              "          await google.colab.output.renderOutput(dataTable, element);\n",
              "          const docLink = document.createElement('div');\n",
              "          docLink.innerHTML = docLinkHtml;\n",
              "          element.appendChild(docLink);\n",
              "        }\n",
              "      </script>\n",
              "    </div>\n",
              "  </div>\n",
              "  "
            ],
            "text/plain": [
              "                                         Race  Population  Percentage\n",
              "0                                       White     3597221      0.4273\n",
              "1                   Black or African American     2046878      0.2431\n",
              "2                             Some Other Race     1241618      0.1475\n",
              "3                                       Asian     1186606      0.1409\n",
              "4                           Two or More Races      305948      0.0363\n",
              "5           American Indian and Alaska Native       36250      0.0043\n",
              "6  Native Hawaiian and Other Pacific Islander        4802      0.0006"
            ]
          },
          "metadata": {},
          "execution_count": 144
        }
      ]
    },
    {
      "cell_type": "code",
      "source": [
        "y=np.array([0.4273, 0.2431, 0.1475, 0.1409, 0.0363, 0.0043, 0.0006])\n",
        "my_labels = 'White', 'Black or African American', 'Asian', 'Some Other Race','Two or More Races', 'American Indian and Alaska Native','Native Hawaiian and Other Pacific Islander'\n",
        "colors = ['steelblue','lightgreen','pink','orange','silver','blue','red']\n",
        "explode = (0.03, 0.03, 0.03, 0.03, 0.03, 0.03, 0.03,)\n",
        "plt.title('MANHATTAN POPULATION BY RACE')\n",
        "plt.pie(y, labels=my_labels, autopct='%1.1f%%', colors=colors, explode=explode)\n",
        "plt.show()"
      ],
      "metadata": {
        "colab": {
          "base_uri": "https://localhost:8080/",
          "height": 264
        },
        "id": "_xhfqdOX7aNo",
        "outputId": "a4e5a632-bd35-42b1-b0d4-8f6aa1e0890b"
      },
      "execution_count": 145,
      "outputs": [
        {
          "output_type": "display_data",
          "data": {
            "image/png": "[encoded data removed]",
            "text/plain": [
              "<Figure size 432x288 with 1 Axes>"
            ]
          },
          "metadata": {}
        }
      ]
    },
    {
      "cell_type": "markdown",
      "source": [
        "With the data from the World Population Review showing a higher precentage of the population in Brooklyn & Manhattan being *white*, it could have been assumed that *white* would also be the higher percentage of arrest, however as previously displayed that is not the case. The earlier bar chart shows black has being 49% of the arrested (155,507/77,133)."
      ],
      "metadata": {
        "id": "vYpsGzIx5Muq"
      }
    },
    {
      "cell_type": "markdown",
      "source": [
        "Next is to review the volumn of arrest of black people based on borough."
      ],
      "metadata": {
        "id": "m3kPwrCs8h5F"
      }
    },
    {
      "cell_type": "code",
      "source": [
        "blk=df3['PERP_RACE']=='BLACK'\n",
        "df_blk=df3[blk]\n",
        "df_blk.shape"
      ],
      "metadata": {
        "colab": {
          "base_uri": "https://localhost:8080/"
        },
        "id": "9nt2hTo99Izb",
        "outputId": "d626a3a5-46e0-4f00-8ae9-48903f6c69f7"
      },
      "execution_count": 146,
      "outputs": [
        {
          "output_type": "execute_result",
          "data": {
            "text/plain": [
              "(77133, 7)"
            ]
          },
          "metadata": {},
          "execution_count": 146
        }
      ]
    },
    {
      "cell_type": "code",
      "source": [
        "df_blk.groupby(['ARREST_BORO'])['ARREST_PRECINCT'].count()"
      ],
      "metadata": {
        "colab": {
          "base_uri": "https://localhost:8080/"
        },
        "id": "1bILX53B-ESL",
        "outputId": "2f439a0a-8c6b-4001-929b-734b537c7f84"
      },
      "execution_count": 148,
      "outputs": [
        {
          "output_type": "execute_result",
          "data": {
            "text/plain": [
              "ARREST_BORO\n",
              "Bronx            16428\n",
              "Brooklyn         24642\n",
              "Manhattan        20035\n",
              "Queens           12981\n",
              "Staten Island     3047\n",
              "Name: ARREST_PRECINCT, dtype: int64"
            ]
          },
          "metadata": {},
          "execution_count": 148
        }
      ]
    },
    {
      "cell_type": "code",
      "source": [
        "df_blk.groupby(['ARREST_BORO'])['ARREST_PRECINCT'].count().plot(kind=\"bar\", color=['silver','steelblue','lightgreen','lightblue','pink'])"
      ],
      "metadata": {
        "colab": {
          "base_uri": "https://localhost:8080/",
          "height": 353
        },
        "id": "_t0ReFtGAb18",
        "outputId": "8f528a5d-e98c-4ba7-8e2f-4bb975168e5a"
      },
      "execution_count": 151,
      "outputs": [
        {
          "output_type": "execute_result",
          "data": {
            "text/plain": [
              "<matplotlib.axes._subplots.AxesSubplot at 0x7f07d9cd5090>"
            ]
          },
          "metadata": {},
          "execution_count": 151
        },
        {
          "output_type": "display_data",
          "data": {
            "image/png": "[encoded data removed]",
            "text/plain": [
              "<Figure size 432x288 with 1 Axes>"
            ]
          },
          "metadata": {
            "needs_background": "light"
          }
        }
      ]
    },
    {
      "cell_type": "markdown",
      "source": [
        "In conclusion based on the information provided on the data and additional information from World Population it appears that black people are more likely to be arrested in Brooklyn & Mantattan even though they make up less of the population in both boroughs. "
      ],
      "metadata": {
        "id": "-0mUjUjJBM_T"
      }
    }
  ]
}